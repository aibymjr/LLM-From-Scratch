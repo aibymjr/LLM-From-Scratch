{
 "cells": [
  {
   "cell_type": "code",
   "execution_count": 1,
   "id": "f11011dd-0fc8-46c0-b947-5de0ba73c3ad",
   "metadata": {},
   "outputs": [],
   "source": [
    "import torch"
   ]
  },
  {
   "cell_type": "code",
   "execution_count": 2,
   "id": "11f42164-a8cf-4463-a70b-1b65b921a585",
   "metadata": {},
   "outputs": [],
   "source": [
    "# (b, num_heads, num_tokens, head_dim) = (1, 2, 3, 4)\n",
    "\n",
    "a = torch.tensor(\n",
    "    [ # 1st dim => 1 Element Inside It\n",
    "        [ # 2nd dim => 2 Element Inside It\n",
    "            [ # 3rd dim => 3 Element Inside It\n",
    "                [0.2745, 0.6584, 0.2775, 0.8573], # 4th dim => 4 Element Inside It\n",
    "                [0.8993, 0.0390, 0.9268, 0.7388],\n",
    "                [0.7179, 0.7058, 0.9156, 0.4340]\n",
    "            ],\n",
    "    \n",
    "            [\n",
    "                [0.0772, 0.3565, 0.1479, 0.5331],\n",
    "                [0.4066, 0.2318, 0.4545, 0.9737],\n",
    "                [0.4606, 0.5159, 0.4220, 0.5786]\n",
    "            ]\n",
    "        ]\n",
    "    ])"
   ]
  },
  {
   "cell_type": "code",
   "execution_count": 9,
   "id": "d39a3c76-3f5a-478a-a8c1-ef71d25777d4",
   "metadata": {},
   "outputs": [
    {
     "name": "stdout",
     "output_type": "stream",
     "text": [
      "Original Matrix:\n",
      "\n",
      " tensor([[[[0.2745, 0.6584, 0.2775, 0.8573],\n",
      "          [0.8993, 0.0390, 0.9268, 0.7388],\n",
      "          [0.7179, 0.7058, 0.9156, 0.4340]],\n",
      "\n",
      "         [[0.0772, 0.3565, 0.1479, 0.5331],\n",
      "          [0.4066, 0.2318, 0.4545, 0.9737],\n",
      "          [0.4606, 0.5159, 0.4220, 0.5786]]]])\n",
      "\n",
      "Transposed Matrix:\n",
      "\n",
      " tensor([[[[0.2745, 0.8993, 0.7179],\n",
      "          [0.6584, 0.0390, 0.7058],\n",
      "          [0.2775, 0.9268, 0.9156],\n",
      "          [0.8573, 0.7388, 0.4340]],\n",
      "\n",
      "         [[0.0772, 0.4066, 0.4606],\n",
      "          [0.3565, 0.2318, 0.5159],\n",
      "          [0.1479, 0.4545, 0.4220],\n",
      "          [0.5331, 0.9737, 0.5786]]]])\n",
      "\n"
     ]
    }
   ],
   "source": [
    "print(\"Original Matrix:\\n\\n\", a, end=\"\\n\\n\")\n",
    "print(\"Transposed Matrix:\\n\\n\", a.transpose(2, 3), end=\"\\n\\n\")"
   ]
  },
  {
   "cell_type": "code",
   "execution_count": 11,
   "id": "f8870546-37b8-4b15-a79f-966f1c620517",
   "metadata": {},
   "outputs": [
    {
     "name": "stdout",
     "output_type": "stream",
     "text": [
      "Original Matrix Shape \t=> torch.Size([1, 2, 3, 4])\n",
      "Transposed Matrix Shape => torch.Size([1, 2, 4, 3])\n"
     ]
    }
   ],
   "source": [
    "print(\"Original Matrix Shape \\t=>\", a.shape)\n",
    "print(\"Transposed Matrix Shape =>\", a.transpose(2, 3).shape)"
   ]
  },
  {
   "cell_type": "code",
   "execution_count": 18,
   "id": "aded585f-a4c9-4954-a643-5785d852ed29",
   "metadata": {},
   "outputs": [
    {
     "name": "stdout",
     "output_type": "stream",
     "text": [
      "Matrix Multiplication Result:\n",
      "\n",
      " tensor([[[[1.3208, 1.1631, 1.2879],\n",
      "          [1.1631, 2.2150, 1.8424],\n",
      "          [1.2879, 1.8424, 2.0402]],\n",
      "\n",
      "         [[0.4391, 0.7003, 0.5903],\n",
      "          [0.7003, 1.3737, 1.0620],\n",
      "          [0.5903, 1.0620, 0.9912]]]])\n",
      "\n",
      "Matrix Shape => torch.Size([1, 2, 3, 3])\n"
     ]
    }
   ],
   "source": [
    "print(\"Matrix Multiplication Result:\\n\\n\", a @ a.transpose(2, 3), end=\"\\n\\n\")\n",
    "print(\"Matrix Shape =>\", (a @ a.transpose(2, 3)).shape)"
   ]
  },
  {
   "cell_type": "code",
   "execution_count": 19,
   "id": "e53f70b5-834e-4861-952f-a8624b0e320c",
   "metadata": {},
   "outputs": [],
   "source": [
    "first_head = a[0, 0, :, :]\n",
    "second_head = a[0, 1, :, :]"
   ]
  },
  {
   "cell_type": "code",
   "execution_count": 22,
   "id": "3545ec12-b26e-4f56-8d10-6f69eb20b760",
   "metadata": {},
   "outputs": [
    {
     "name": "stdout",
     "output_type": "stream",
     "text": [
      "First Head:\n",
      "\n",
      " tensor([[0.2745, 0.6584, 0.2775, 0.8573],\n",
      "        [0.8993, 0.0390, 0.9268, 0.7388],\n",
      "        [0.7179, 0.7058, 0.9156, 0.4340]])\n",
      "\n",
      "Second Head:\n",
      "\n",
      " tensor([[0.0772, 0.3565, 0.1479, 0.5331],\n",
      "        [0.4066, 0.2318, 0.4545, 0.9737],\n",
      "        [0.4606, 0.5159, 0.4220, 0.5786]])\n"
     ]
    }
   ],
   "source": [
    "print(\"First Head:\\n\\n\", first_head, end=\"\\n\\n\")\n",
    "print(\"Second Head:\\n\\n\", second_head)"
   ]
  },
  {
   "cell_type": "code",
   "execution_count": 23,
   "id": "e2bc8325-3328-4298-a451-cd94d135f921",
   "metadata": {},
   "outputs": [],
   "source": [
    "first_res = first_head @ first_head.T\n",
    "second_res = second_head @ second_head.T"
   ]
  },
  {
   "cell_type": "code",
   "execution_count": 25,
   "id": "93634fbf-900e-46e8-932d-46202449be03",
   "metadata": {},
   "outputs": [
    {
     "name": "stdout",
     "output_type": "stream",
     "text": [
      "First Head Result:\n",
      "\n",
      " tensor([[1.3208, 1.1631, 1.2879],\n",
      "        [1.1631, 2.2150, 1.8424],\n",
      "        [1.2879, 1.8424, 2.0402]])\n",
      "\n",
      "Second Head Result:\n",
      "\n",
      " tensor([[0.4391, 0.7003, 0.5903],\n",
      "        [0.7003, 1.3737, 1.0620],\n",
      "        [0.5903, 1.0620, 0.9912]])\n"
     ]
    }
   ],
   "source": [
    "print(\"First Head Result:\\n\\n\", first_res, end=\"\\n\\n\")\n",
    "print(\"Second Head Result:\\n\\n\", second_res)"
   ]
  },
  {
   "cell_type": "code",
   "execution_count": null,
   "id": "a4ae76f4-c197-4421-b303-4f6baaba64d9",
   "metadata": {},
   "outputs": [],
   "source": []
  }
 ],
 "metadata": {
  "kernelspec": {
   "display_name": "Python 3 (ipykernel)",
   "language": "python",
   "name": "python3"
  },
  "language_info": {
   "codemirror_mode": {
    "name": "ipython",
    "version": 3
   },
   "file_extension": ".py",
   "mimetype": "text/x-python",
   "name": "python",
   "nbconvert_exporter": "python",
   "pygments_lexer": "ipython3",
   "version": "3.11.12"
  }
 },
 "nbformat": 4,
 "nbformat_minor": 5
}
