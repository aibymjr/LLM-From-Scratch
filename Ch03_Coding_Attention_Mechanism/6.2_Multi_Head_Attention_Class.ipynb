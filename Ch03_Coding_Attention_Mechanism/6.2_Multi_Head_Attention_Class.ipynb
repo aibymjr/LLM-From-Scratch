{
 "cells": [
  {
   "cell_type": "code",
   "execution_count": 1,
   "id": "9d5bdc21-76ce-46ff-958d-6e1944a91640",
   "metadata": {},
   "outputs": [],
   "source": [
    "import torch\n",
    "import torch.nn as nn"
   ]
  },
  {
   "cell_type": "code",
   "execution_count": 3,
   "id": "848ec31f-a23b-4dfe-905b-bf9c4e9346ee",
   "metadata": {},
   "outputs": [],
   "source": [
    "inputs = torch.tensor([\n",
    "    [0.43, 0.15, 0.89], # Your      (x^1)\n",
    "    [0.55, 0.87, 0.66], # journey   (x^2)\n",
    "    [0.57, 0.85, 0.64], # starts    (x^3)\n",
    "    [0.22, 0.58, 0.33], # with      (x^4)\n",
    "    [0.77, 0.25, 0.10], # one       (x^5)\n",
    "    [0.05, 0.80, 0.55]  # step      (x^6)\n",
    "])\n",
    "\n",
    "batch = torch.stack((inputs, inputs), dim=0)"
   ]
  },
  {
   "cell_type": "code",
   "execution_count": 41,
   "id": "28a83170-5ac5-4c95-965c-3058b5dc750b",
   "metadata": {},
   "outputs": [],
   "source": [
    "class MultiHeadAttention(nn.Module):\n",
    "    def __init__(self, d_in, d_out, context_length, dropout, num_heads, qkv_bias=False):\n",
    "        super().__init__()\n",
    "        \n",
    "        assert (d_out % num_heads == 0), \"d_out must be divisible by num_heads\"\n",
    "\n",
    "        self.d_out = d_out\n",
    "        self.num_heads = num_heads\n",
    "        self.head_dim = d_out // num_heads # Reduce the projection dim to match desired output dim\n",
    "        \n",
    "        self.Wq = nn.Linear(d_in, d_out, bias=qkv_bias)\n",
    "        self.Wk = nn.Linear(d_in, d_out, bias=qkv_bias)\n",
    "        self.Wv = nn.Linear(d_in, d_out, bias=qkv_bias)\n",
    "        self.out_proj = nn.Linear(d_out, d_out) # Linear layer to combine head outputs\n",
    "        \n",
    "        self.dropout = nn.Dropout(dropout)\n",
    "        self.register_buffer(\"mask\", torch.triu(torch.ones(context_length, context_length), diagonal=1))\n",
    "\n",
    "    def forward(self, x):\n",
    "        b, num_tokens, d_in = x.shape\n",
    "        \n",
    "        # QKV Shape: (b, num_tokens, d_out)\n",
    "        queries = self.Wq(x) \n",
    "        keys = self.Wk(x)\n",
    "        values = self.Wv(x)\n",
    "\n",
    "        # We implicitly split the matrix by adding a `num_heads` dimension\n",
    "        # Unroll last dim: (b, num_tokens, d_out) => (b, num_tokens, num_heads, head_dim)\n",
    "        queries = queries.view(b, num_tokens, self.num_heads, self.head_dim)\n",
    "        keys = keys.view(b, num_tokens, self.num_heads, self.head_dim)\n",
    "        values = values.view(b, num_tokens, self.num_heads, self.head_dim)\n",
    "\n",
    "        # Transpose: (b, num_tokens, num_heads, head_dim) => (b, num_heads, num_tokens, head_dim)\n",
    "        queries = queries.transpose(1, 2)\n",
    "        keys = keys.transpose(1, 2)\n",
    "        values = values.transpose(1, 2)\n",
    "        \n",
    "        # Compute scaled dot-product attention (aka self-attention) with a causal mask\n",
    "        attn_scores = queries @ keys.transpose(2, 3)  # Dot product for each head\n",
    "\n",
    "        # Original mask truncated to the number of tokens and converted to boolean\n",
    "        mask_bool = self.mask.bool()[:num_tokens, :num_tokens]\n",
    "        \n",
    "        # Uses the mask to fill attention scores\n",
    "        attn_scores.masked_fill_(mask_bool, -torch.inf)\n",
    "\n",
    "        attn_weights = torch.softmax(attn_scores / keys.shape[-1]**0.5, dim=-1)\n",
    "        attn_weights = self.dropout(attn_weights)\n",
    "\n",
    "        # Shape: (b, num_tokens, num_heads, head_dim)\n",
    "        context_vec = (attn_weights @ values).transpose(1, 2)\n",
    "\n",
    "        # Combine heads, where self.d_out = self.num_heads * self.head_dim\n",
    "        context_vec = context_vec.contiguous().view(b, num_tokens, self.d_out)\n",
    "        context_vec = self.out_proj(context_vec) # optional projection\n",
    "\n",
    "        return context_vec"
   ]
  },
  {
   "cell_type": "code",
   "execution_count": 42,
   "id": "6bb01de8-e370-4cc7-9ffb-9693f24aec20",
   "metadata": {},
   "outputs": [],
   "source": [
    "batch_size, context_length, d_in = batch.shape # 2, 6, 3\n",
    "d_out = 2\n",
    "dropout = 0.0\n",
    "num_heads = 2"
   ]
  },
  {
   "cell_type": "code",
   "execution_count": 43,
   "id": "e6bac763-98a5-4849-931d-5e1cd89a1a0a",
   "metadata": {},
   "outputs": [],
   "source": [
    "torch.manual_seed(666)\n",
    "\n",
    "mha = MultiHeadAttention(d_in, d_out, context_length, dropout, num_heads)\n",
    "context_vecs = mha(batch)"
   ]
  },
  {
   "cell_type": "code",
   "execution_count": 15,
   "id": "ae841cce-bf9a-4a3c-b3c6-18b5a44ec222",
   "metadata": {},
   "outputs": [
    {
     "name": "stdout",
     "output_type": "stream",
     "text": [
      "tensor([[[-0.0264,  0.4706],\n",
      "         [-0.0254,  0.4416],\n",
      "         [-0.0257,  0.4319],\n",
      "         [-0.0198,  0.4514],\n",
      "         [-0.0245,  0.4371],\n",
      "         [-0.0170,  0.4541]],\n",
      "\n",
      "        [[-0.0264,  0.4706],\n",
      "         [-0.0254,  0.4416],\n",
      "         [-0.0257,  0.4319],\n",
      "         [-0.0198,  0.4514],\n",
      "         [-0.0245,  0.4371],\n",
      "         [-0.0170,  0.4541]]], grad_fn=<ViewBackward0>)\n",
      "\n",
      "MHA-Context Vectors Shape => torch.Size([2, 6, 2])\n"
     ]
    }
   ],
   "source": [
    "print(context_vecs, end=\"\\n\\n\")\n",
    "print(\"MHA-Context Vectors Shape =>\", context_vecs.shape)"
   ]
  },
  {
   "cell_type": "code",
   "execution_count": 16,
   "id": "7e12b20d-c59b-4cea-af7b-d37bc5d70196",
   "metadata": {},
   "outputs": [],
   "source": [
    "# Exercise 3.3 Initializing GPT-2 Size Attention Modules:\n",
    "\n",
    "context_length_gpt2 = 1024\n",
    "d_in_gpt2 = 768\n",
    "d_out_gpt2 = 768\n",
    "num_heads_gpt2 = 12\n",
    "dropout_gpt2 = 0.1\n",
    "\n",
    "mha_gpt2 = MultiHeadAttention(d_in_gpt2, d_out_gpt2, context_length_gpt2, dropout_gpt2, num_heads_gpt2)"
   ]
  },
  {
   "cell_type": "code",
   "execution_count": 27,
   "id": "2c0c3cc4-7fc3-4255-89c1-add02666f125",
   "metadata": {},
   "outputs": [
    {
     "name": "stdout",
     "output_type": "stream",
     "text": [
      "GPT-2 Sized Attention Module\n",
      "\n",
      " MultiHeadAttention(\n",
      "  (Wq): Linear(in_features=768, out_features=768, bias=False)\n",
      "  (Wk): Linear(in_features=768, out_features=768, bias=False)\n",
      "  (Wv): Linear(in_features=768, out_features=768, bias=False)\n",
      "  (out_proj): Linear(in_features=768, out_features=768, bias=True)\n",
      "  (dropout): Dropout(p=0.1, inplace=False)\n",
      ")\n"
     ]
    }
   ],
   "source": [
    "print(\"GPT-2 Sized Attention Module\\n\\n\", mha_gpt2)"
   ]
  },
  {
   "cell_type": "code",
   "execution_count": 28,
   "id": "17e45797-3b08-4286-8836-07ec98728464",
   "metadata": {},
   "outputs": [],
   "source": [
    "def count_parameters(model):\n",
    "    return \"{:,}\".format(sum(p.numel() for p in model.parameters() if p.requires_grad))"
   ]
  },
  {
   "cell_type": "code",
   "execution_count": 31,
   "id": "05a80130-e6e8-4fbf-8aca-b365f8449200",
   "metadata": {},
   "outputs": [
    {
     "name": "stdout",
     "output_type": "stream",
     "text": [
      "GPT2 Parameter Count => 2,360,064\n"
     ]
    }
   ],
   "source": [
    "# 4 Layers => Wq, Wk, Wv, out_proj\n",
    "\n",
    "# Wq, Wk & Wv has weights of Shape (d_in, d_out)\n",
    "# out_proj has weights of Shape (d_out, d_out)\n",
    "\n",
    "# Only out_proj has bias vector of size 768\n",
    "\n",
    "# 4 * (768 * 768) = 2,359,296 + 768 = 2,360,064\n",
    "\n",
    "print(\"GPT2 Parameter Count =>\", count_parameters(mha_gpt2))"
   ]
  }
 ],
 "metadata": {
  "kernelspec": {
   "display_name": "Python 3 (ipykernel)",
   "language": "python",
   "name": "python3"
  },
  "language_info": {
   "codemirror_mode": {
    "name": "ipython",
    "version": 3
   },
   "file_extension": ".py",
   "mimetype": "text/x-python",
   "name": "python",
   "nbconvert_exporter": "python",
   "pygments_lexer": "ipython3",
   "version": "3.11.12"
  }
 },
 "nbformat": 4,
 "nbformat_minor": 5
}
