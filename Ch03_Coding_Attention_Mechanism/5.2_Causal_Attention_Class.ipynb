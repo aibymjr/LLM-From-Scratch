{
 "cells": [
  {
   "cell_type": "code",
   "execution_count": 16,
   "id": "f6fc9dda-44ea-4b8c-aa42-b865f72f0c59",
   "metadata": {},
   "outputs": [],
   "source": [
    "import torch\n",
    "import torch.nn as nn"
   ]
  },
  {
   "cell_type": "code",
   "execution_count": 17,
   "id": "90ec34e8-a437-429b-8d83-076325c860a0",
   "metadata": {},
   "outputs": [],
   "source": [
    "inputs = torch.tensor([\n",
    "    [0.43, 0.15, 0.89], # Your      (x^1)\n",
    "    [0.55, 0.87, 0.66], # journey   (x^2)\n",
    "    [0.57, 0.85, 0.64], # starts    (x^3)\n",
    "    [0.22, 0.58, 0.33], # with      (x^4)\n",
    "    [0.77, 0.25, 0.10], # one       (x^5)\n",
    "    [0.05, 0.80, 0.55]  # step      (x^6)\n",
    "])\n",
    "\n",
    "batch = torch.stack((inputs, inputs), dim=0)"
   ]
  },
  {
   "cell_type": "code",
   "execution_count": 18,
   "id": "f64996b7-b4c6-4090-8657-b457d4f6a84b",
   "metadata": {},
   "outputs": [
    {
     "name": "stdout",
     "output_type": "stream",
     "text": [
      "Batch:\n",
      "\n",
      " tensor([[[0.4300, 0.1500, 0.8900],\n",
      "         [0.5500, 0.8700, 0.6600],\n",
      "         [0.5700, 0.8500, 0.6400],\n",
      "         [0.2200, 0.5800, 0.3300],\n",
      "         [0.7700, 0.2500, 0.1000],\n",
      "         [0.0500, 0.8000, 0.5500]],\n",
      "\n",
      "        [[0.4300, 0.1500, 0.8900],\n",
      "         [0.5500, 0.8700, 0.6600],\n",
      "         [0.5700, 0.8500, 0.6400],\n",
      "         [0.2200, 0.5800, 0.3300],\n",
      "         [0.7700, 0.2500, 0.1000],\n",
      "         [0.0500, 0.8000, 0.5500]]])\n",
      "\n",
      "Batch Shape => torch.Size([2, 6, 3])\n"
     ]
    }
   ],
   "source": [
    "print(\"Batch:\\n\\n\", batch, end=\"\\n\\n\")\n",
    "print(\"Batch Shape =>\", batch.shape)"
   ]
  },
  {
   "cell_type": "code",
   "execution_count": 19,
   "id": "dc94099d-57d1-4bbe-afc9-2aeb5abeaafb",
   "metadata": {},
   "outputs": [],
   "source": [
    "class CausalAttention(nn.Module):\n",
    "    def __init__(self, d_in, d_out, context_length, dropout, qkv_bias=False):\n",
    "        super().__init__()\n",
    "        \n",
    "        self.Wq = nn.Linear(d_in, d_out, bias=qkv_bias)\n",
    "        self.Wk = nn.Linear(d_in, d_out, bias=qkv_bias)\n",
    "        self.Wv = nn.Linear(d_in, d_out, bias=qkv_bias)\n",
    "        self.dropout = nn.Dropout(dropout)\n",
    "        self.register_buffer(\n",
    "            \"mask\",\n",
    "            torch.triu(torch.ones(context_length, context_length), diagonal=1)\n",
    "        )\n",
    "    \n",
    "    def forward(self, x):\n",
    "        b, num_tokens, d_in = x.shape\n",
    "        \n",
    "        queries = self.Wq(x)\n",
    "        keys = self.Wk(x)\n",
    "        values = self.Wv(x)\n",
    "\n",
    "        attn_scores = queries @ keys.transpose(1, 2)\n",
    "        attn_scores.masked_fill_(self.mask.bool()[:num_tokens, :num_tokens], -torch.inf)\n",
    "        attn_weights = torch.softmax(attn_scores / keys.shape[-1]**0.5, dim=-1)\n",
    "        attn_weights = self.dropout(attn_weights)\n",
    "\n",
    "        context_vec = attn_weights @ values\n",
    "        return context_vec"
   ]
  },
  {
   "cell_type": "code",
   "execution_count": 20,
   "id": "bc5c010d-ad35-462c-96f7-b34376370040",
   "metadata": {},
   "outputs": [],
   "source": [
    "d_in = inputs.shape[1]\n",
    "d_out = 2\n",
    "context_length = batch.shape[1]"
   ]
  },
  {
   "cell_type": "code",
   "execution_count": 21,
   "id": "8954e934-0840-4e25-a290-0beed3d3de72",
   "metadata": {},
   "outputs": [],
   "source": [
    "torch.manual_seed(666)\n",
    "\n",
    "causal_attn = CausalAttention(d_in, d_out, context_length, 0.0)\n",
    "context_vecs = causal_attn(batch)"
   ]
  },
  {
   "cell_type": "code",
   "execution_count": 22,
   "id": "f7b90a99-a10e-4843-b29f-2aa311fd7dcd",
   "metadata": {},
   "outputs": [
    {
     "name": "stdout",
     "output_type": "stream",
     "text": [
      "Context Vectors:\n",
      "\n",
      " tensor([[[0.1888, 0.2392],\n",
      "         [0.2342, 0.3205],\n",
      "         [0.2489, 0.3449],\n",
      "         [0.2147, 0.3002],\n",
      "         [0.2409, 0.3300],\n",
      "         [0.2113, 0.2948]],\n",
      "\n",
      "        [[0.1888, 0.2392],\n",
      "         [0.2342, 0.3205],\n",
      "         [0.2489, 0.3449],\n",
      "         [0.2147, 0.3002],\n",
      "         [0.2409, 0.3300],\n",
      "         [0.2113, 0.2948]]], grad_fn=<UnsafeViewBackward0>)\n",
      "\n",
      "Context Vectors Shape => torch.Size([2, 6, 2])\n"
     ]
    }
   ],
   "source": [
    "print(\"Context Vectors:\\n\\n\", context_vecs, end=\"\\n\\n\")\n",
    "print(\"Context Vectors Shape =>\", context_vecs.shape)"
   ]
  }
 ],
 "metadata": {
  "kernelspec": {
   "display_name": "Python 3 (ipykernel)",
   "language": "python",
   "name": "python3"
  },
  "language_info": {
   "codemirror_mode": {
    "name": "ipython",
    "version": 3
   },
   "file_extension": ".py",
   "mimetype": "text/x-python",
   "name": "python",
   "nbconvert_exporter": "python",
   "pygments_lexer": "ipython3",
   "version": "3.11.12"
  }
 },
 "nbformat": 4,
 "nbformat_minor": 5
}
