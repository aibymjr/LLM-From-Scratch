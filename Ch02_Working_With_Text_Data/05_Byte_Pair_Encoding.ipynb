{
 "cells": [
  {
   "cell_type": "code",
   "execution_count": 1,
   "id": "4354ee9f-9ba7-4e26-b96e-d7584fa6920e",
   "metadata": {},
   "outputs": [],
   "source": [
    "from importlib.metadata import version\n",
    "import tiktoken"
   ]
  },
  {
   "cell_type": "code",
   "execution_count": 2,
   "id": "65ddeacf-7294-4884-b3f6-7587c0121e76",
   "metadata": {},
   "outputs": [
    {
     "name": "stdout",
     "output_type": "stream",
     "text": [
      "Tiktoken Version => 0.9.0\n"
     ]
    }
   ],
   "source": [
    "print(\"Tiktoken Version =>\", version(\"tiktoken\"))"
   ]
  },
  {
   "cell_type": "code",
   "execution_count": 3,
   "id": "2586d15b-c7ce-4a5d-aa77-894c5d1ca33b",
   "metadata": {},
   "outputs": [],
   "source": [
    "text = \"Hello, want tea? <|endoftext|> In the terraces of someunknownPlace.\""
   ]
  },
  {
   "cell_type": "code",
   "execution_count": 4,
   "id": "22e91355-63bc-4d9f-ba31-5d79df251552",
   "metadata": {},
   "outputs": [],
   "source": [
    "tokenizer = tiktoken.get_encoding(\"gpt2\")"
   ]
  },
  {
   "cell_type": "code",
   "execution_count": 5,
   "id": "ba23d8d2-a342-46b8-82c8-308c0e924ad0",
   "metadata": {},
   "outputs": [],
   "source": [
    "encoded_text = tokenizer.encode(text, allowed_special={\"<|endoftext|>\"})\n",
    "decoded_text = tokenizer.decode(encoded_text)"
   ]
  },
  {
   "cell_type": "code",
   "execution_count": 6,
   "id": "f1632cf8-3480-43b9-b2af-020335f4c02a",
   "metadata": {},
   "outputs": [
    {
     "name": "stdout",
     "output_type": "stream",
     "text": [
      "Text => Hello, want tea? <|endoftext|> In the terraces of someunknownPlace.\n",
      "\n",
      "Encoded Text => [15496, 11, 765, 8887, 30, 220, 50256, 554, 262, 8812, 2114, 286, 617, 34680, 27271, 13]\n",
      "Decoded Text => Hello, want tea? <|endoftext|> In the terraces of someunknownPlace.\n",
      "\n",
      "Hello \t\t=>  15496\n",
      ", \t\t=>  11\n",
      " want \t\t=>  765\n",
      " tea \t\t=>  8887\n",
      "? \t\t=>  30\n",
      "  \t\t=>  220\n",
      "<|endoftext|> \t\t=>  50256\n",
      " In \t\t=>  554\n",
      " the \t\t=>  262\n",
      " terr \t\t=>  8812\n",
      "aces \t\t=>  2114\n",
      " of \t\t=>  286\n",
      " some \t\t=>  617\n",
      "unknown \t\t=>  34680\n",
      "Place \t\t=>  27271\n",
      ". \t\t=>  13\n"
     ]
    }
   ],
   "source": [
    "print(\"Text =>\", text, end=\"\\n\\n\")\n",
    "print(\"Encoded Text =>\", encoded_text)\n",
    "print(\"Decoded Text =>\", decoded_text, end=\"\\n\\n\")\n",
    "\n",
    "for token in encoded_text:\n",
    "  print(tokenizer.decode([token]), \"\\t\\t=> \", token)"
   ]
  },
  {
   "cell_type": "code",
   "execution_count": 7,
   "id": "cb911ca8-fded-46ba-8229-6187bb5b9b87",
   "metadata": {},
   "outputs": [],
   "source": [
    "# Exercise 2.1\n",
    "\n",
    "text = \"Akwirw ier\"\n",
    "encoded_text = tokenizer.encode(text)\n",
    "decoded_text = tokenizer.decode(encoded_text)"
   ]
  },
  {
   "cell_type": "code",
   "execution_count": 8,
   "id": "2c52b405-64ae-4241-9211-da0bbb545a2f",
   "metadata": {},
   "outputs": [
    {
     "name": "stdout",
     "output_type": "stream",
     "text": [
      "Text => Akwirw ier\n",
      "\n",
      "Encoded Text => [33901, 86, 343, 86, 220, 959]\n",
      "Decoded Text => Akwirw ier\n",
      "\n",
      "Ak \t\t=>  33901\n",
      "w \t\t=>  86\n",
      "ir \t\t=>  343\n",
      "w \t\t=>  86\n",
      "  \t\t=>  220\n",
      "ier \t\t=>  959\n"
     ]
    }
   ],
   "source": [
    "print(\"Text =>\", text, end=\"\\n\\n\")\n",
    "print(\"Encoded Text =>\", encoded_text)\n",
    "print(\"Decoded Text =>\", decoded_text, end=\"\\n\\n\")\n",
    "\n",
    "for token in encoded_text:\n",
    "  print(tokenizer.decode([token]), \"\\t\\t=> \", token)"
   ]
  }
 ],
 "metadata": {
  "kernelspec": {
   "display_name": "Python 3 (ipykernel)",
   "language": "python",
   "name": "python3"
  },
  "language_info": {
   "codemirror_mode": {
    "name": "ipython",
    "version": 3
   },
   "file_extension": ".py",
   "mimetype": "text/x-python",
   "name": "python",
   "nbconvert_exporter": "python",
   "pygments_lexer": "ipython3",
   "version": "3.11.12"
  }
 },
 "nbformat": 4,
 "nbformat_minor": 5
}
